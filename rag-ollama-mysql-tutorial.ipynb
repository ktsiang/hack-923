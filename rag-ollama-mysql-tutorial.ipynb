{
 "cells": [
  {
   "cell_type": "markdown",
   "metadata": {},
   "source": [
    "# **How to build RAG application - PDF method**\n",
    "---\n",
    "Demo how to create RAG from PDF file "
   ]
  },
  {
   "cell_type": "markdown",
   "metadata": {},
   "source": [
    "## **Library Installation**\n",
    "Install those required libary"
   ]
  },
  {
   "cell_type": "code",
   "execution_count": 14,
   "metadata": {},
   "outputs": [
    {
     "name": "stdout",
     "output_type": "stream",
     "text": [
      "Note: you may need to restart the kernel to use updated packages.\n",
      "Note: you may need to restart the kernel to use updated packages.\n",
      "Note: you may need to restart the kernel to use updated packages.\n",
      "Note: you may need to restart the kernel to use updated packages.\n",
      "Note: you may need to restart the kernel to use updated packages.\n",
      "Note: you may need to restart the kernel to use updated packages.\n"
     ]
    }
   ],
   "source": [
    "%pip install --quiet -U langchain ## LLM libary\n",
    "%pip install --quiet -U chromadb ## Vector Storage\n",
    "# %pip install --quiet -U langchain-chroma ## LLM Vector Storage\n",
    "%pip install --quiet -U pypdf ## Loading PDFs\n",
    "%pip install --quiet -U pytest ## Unit testing\n",
    "%pip install --quiet -U langchain-community ## LLM Community Library\n",
    "%pip install --quiet -U langchain-ollama ## LLM Ollama Library"
   ]
  },
  {
   "cell_type": "markdown",
   "metadata": {},
   "source": [
    "Import some libraries"
   ]
  },
  {
   "cell_type": "code",
   "execution_count": 17,
   "metadata": {},
   "outputs": [],
   "source": [
    "import argparse\n",
    "import os\n",
    "import shutil\n",
    "from IPython.display import display, Markdown\n",
    "from langchain_community.document_loaders import PyPDFLoader\n",
    "from langchain_text_splitters import RecursiveCharacterTextSplitter\n",
    "from langchain.schema.document import Document\n",
    "from langchain_ollama import OllamaEmbeddings\n",
    "from langchain.vectorstores.chroma import Chroma\n",
    "# from langchain_chroma import Chroma\n",
    "from langchain.prompts import ChatPromptTemplate\n",
    "# from langchain_community.llms.ollama import Ollama\n",
    "from langchain_ollama import OllamaLLM"
   ]
  },
  {
   "cell_type": "markdown",
   "metadata": {},
   "source": [
    "Define variables"
   ]
  },
  {
   "cell_type": "code",
   "execution_count": null,
   "metadata": {},
   "outputs": [],
   "source": [
    "# PDF_PATH = \"./data/pdf/Maestro_Policy_Engine_25.40.00_Configuration_Guide.pdf\"\n",
    "# CHROMA_PATH = \"./chroma-database/mpe-db\"\n",
    "# PDF_PATH = \"./data/pdf/Monopoly Manual 2007.pdf\"\n",
    "# CHROMA_PATH = \"./chroma-database/monopoly-db\"\n",
    "PDF_PATH = \"./data/pdf/mysql-tutorial-excerpt-8.0-en.a4.pdf\"\n",
    "CHROMA_PATH = \"./chroma-database/mysql-db\"\n",
    "# PDF_PATH = \"./data/pdf/mysql-security-excerpt-8.0-en.pdf\"\n",
    "# CHROMA_PATH = \"./chroma-database/mysql-security-db\""
   ]
  },
  {
   "cell_type": "markdown",
   "metadata": {},
   "source": [
    "## **Loading PDF Data**\n",
    "Try to load PDF data"
   ]
  },
  {
   "cell_type": "code",
   "execution_count": 19,
   "metadata": {},
   "outputs": [],
   "source": [
    "\n",
    "loader = PyPDFLoader(PDF_PATH)\n",
    "pages = loader.load()\n",
    "# print(pages)"
   ]
  },
  {
   "cell_type": "markdown",
   "metadata": {},
   "source": [
    "Split the documents"
   ]
  },
  {
   "cell_type": "code",
   "execution_count": 20,
   "metadata": {},
   "outputs": [],
   "source": [
    "text_splitter = RecursiveCharacterTextSplitter(\n",
    "    chunk_size=800,\n",
    "    chunk_overlap=80,\n",
    "    length_function=len,\n",
    "    is_separator_regex=False\n",
    ")\n",
    "chunks = text_splitter.split_documents(pages)"
   ]
  },
  {
   "cell_type": "markdown",
   "metadata": {},
   "source": [
    "Preparing embedding"
   ]
  },
  {
   "cell_type": "code",
   "execution_count": 22,
   "metadata": {},
   "outputs": [],
   "source": [
    "embeddings = OllamaEmbeddings(model=\"nomic-embed-text\")"
   ]
  },
  {
   "cell_type": "markdown",
   "metadata": {},
   "source": [
    "**(OPTIONAL) Clear Databse**\n",
    "Clear database if required"
   ]
  },
  {
   "cell_type": "code",
   "execution_count": 6,
   "metadata": {},
   "outputs": [],
   "source": [
    "IS_DB_CLEARED = False\n",
    "if IS_DB_CLEARED:\n",
    "     if os.path.exists(CHROMA_PATH):\n",
    "        shutil.rmtree(CHROMA_PATH)"
   ]
  },
  {
   "cell_type": "markdown",
   "metadata": {},
   "source": [
    "## **Preparing Chroma**"
   ]
  },
  {
   "cell_type": "code",
   "execution_count": 23,
   "metadata": {},
   "outputs": [],
   "source": [
    "db = Chroma(\n",
    "    persist_directory=CHROMA_PATH,\n",
    "    embedding_function=embeddings\n",
    ")"
   ]
  },
  {
   "cell_type": "markdown",
   "metadata": {},
   "source": [
    "Calculate Page IDs"
   ]
  },
  {
   "cell_type": "code",
   "execution_count": 25,
   "metadata": {},
   "outputs": [
    {
     "name": "stdout",
     "output_type": "stream",
     "text": [
      "Processing 1958 chunks\n"
     ]
    }
   ],
   "source": [
    "last_page_id = None\n",
    "current_chunck_index = 0\n",
    "\n",
    "# Calculate the page ID\n",
    "print(f\"Processing {len(chunks)} chunks\")\n",
    "for chunk in chunks:\n",
    "    source = chunk.metadata.get(\"source\")\n",
    "    page = chunk.metadata.get(\"page\")\n",
    "    current_page_id = f\"{source}:{page}\"\n",
    "    # print(f\"=== Processing {current_page_id} ===\")\n",
    "\n",
    "    # if the page ID is the same as the last one, increment the index\n",
    "    # print(f\"Last page ID: {last_page_id} | Current page ID: {current_page_id}\")\n",
    "\n",
    "    if current_page_id == last_page_id:\n",
    "        current_chunck_index += 1\n",
    "    else:\n",
    "        current_chunck_index = 0\n",
    "    # print(f\"Chunk index: {current_chunck_index}\")\n",
    "\n",
    "    # Calculate the chunk ID\n",
    "    chunk_id = f\"{current_page_id}:{current_chunck_index}\"\n",
    "    last_page_id = current_page_id\n",
    "    # print(f\"Chunk ID: {chunk_id}\")\n",
    "\n",
    "    # Add it to the page meta-data\n",
    "    chunk.metadata[\"id\"] = chunk_id"
   ]
  },
  {
   "cell_type": "markdown",
   "metadata": {},
   "source": [
    "Add or update the documents"
   ]
  },
  {
   "cell_type": "code",
   "execution_count": 28,
   "metadata": {},
   "outputs": [
    {
     "name": "stdout",
     "output_type": "stream",
     "text": [
      "Number of existing documents in DB: 1958\n"
     ]
    }
   ],
   "source": [
    "existing_items = db.get(include=[]) # IDs are always included by default\n",
    "existing_ids = set(existing_items[\"ids\"])\n",
    "print(f\"Number of existing documents in DB: {len(existing_ids)}\")"
   ]
  },
  {
   "cell_type": "markdown",
   "metadata": {},
   "source": [
    "Only add document that don't exist in the DB."
   ]
  },
  {
   "cell_type": "code",
   "execution_count": 27,
   "metadata": {},
   "outputs": [
    {
     "name": "stdout",
     "output_type": "stream",
     "text": [
      "Adding new documents to DB: 1958\n"
     ]
    },
    {
     "name": "stderr",
     "output_type": "stream",
     "text": [
      "/tmp/ipykernel_31419/1204274233.py:10: LangChainDeprecationWarning: Since Chroma 0.4.x the manual persistence method is no longer supported as docs are automatically persisted.\n",
      "  db.persist()\n"
     ]
    }
   ],
   "source": [
    "new_chunks = []\n",
    "for chunk in chunks:\n",
    "    if chunk.metadata[\"id\"] not in existing_ids:\n",
    "        new_chunks.append(chunk)\n",
    "\n",
    "if len(new_chunks) > 0:\n",
    "    print(f\"Adding new documents to DB: {len(new_chunks)}\")\n",
    "    chunks = [chunk.metadata[\"id\"] for chunk in new_chunks]\n",
    "    db.add_documents(new_chunks, ids=chunks)\n",
    "    db.persist()\n",
    "else:\n",
    "    print(\"No new documents to add to DB\")"
   ]
  },
  {
   "cell_type": "markdown",
   "metadata": {},
   "source": [
    "## **Query Data**\n",
    "Preparing to search from DB"
   ]
  },
  {
   "cell_type": "code",
   "execution_count": null,
   "metadata": {},
   "outputs": [
    {
     "name": "stdout",
     "output_type": "stream",
     "text": [
      "Context: \n",
      "2.2.1 End-User Guidelines for Password Security\n",
      "MySQL users should use the following guidelines to keep passwords secure.\n",
      "When you run a client program to connect to the MySQL server, it is inadvisable to specify your password\n",
      "in a way that exposes it to discovery by other users. The methods you can use to specify your password\n",
      "when you run client programs are listed here, along with an assessment of the risks of each method.\n",
      "In short, the safest methods are to have the client program prompt for the password or to specify the\n",
      "password in a properly protected option file.\n",
      "• Use the mysql_config_editor utility, which enables you to store authentication credentials in an\n",
      "encrypted login path file named .mylogin.cnf. The file can be read later by MySQL client programs to\n",
      "\n",
      "---\n",
      "\n",
      "Security Guidelines\n",
      "Review the MySQL installation instructions, paying particular attention to the information about setting\n",
      "a root password. See Section 3.4, “Securing the Initial MySQL Account”.\n",
      "• Use the SHOW GRANTS statement to check which accounts have access to what. Then use the\n",
      "REVOKE statement to remove those privileges that are not necessary.\n",
      "• Do not store cleartext passwords in your database. If your computer becomes compromised, the intruder\n",
      "can take the full list of passwords and use them. Instead, use SHA2() or some other one-way hashing\n",
      "function and store the hash value.\n",
      "To prevent password recovery using rainbow tables, do not use these functions on a plain password;\n",
      "instead, choose some string to be used as a salt, and use hash(hash(password)+salt) values.\n",
      "\n",
      "---\n",
      "\n",
      "concerns include the following:\n",
      "• Section 2.1, “Security Guidelines”.\n",
      "• Section 2.3, “Making MySQL Secure Against Attackers”.\n",
      "• How to Reset the Root Password.\n",
      "• Section 2.5, “How to Run MySQL as a Normal User”.\n",
      "• Section 2.4, “Security-Related mysqld Options and Variables”.\n",
      "• Section 2.6, “Security Considerations for LOAD DATA LOCAL”.\n",
      "• Chapter 3, Postinstallation Setup and Testing.\n",
      "• Chapter 5, Using Encrypted Connections.\n",
      "• Loadable Function Security Precautions.\n",
      "There is also the Secure Deployment Guide, which provides procedures for deploying a generic binary\n",
      "distribution of MySQL Enterprise Edition Server with features for managing the security of your MySQL\n",
      "installation.\n",
      "A.2:  What is the default authentication plugin in MySQL 8.0?\n",
      "\n",
      "---\n",
      "\n",
      "Chapter 1 Security\n",
      "When thinking about security within a MySQL installation, you should consider a wide range of possible\n",
      "topics and how they affect the security of your MySQL server and related applications:\n",
      "• General factors that affect security. These include choosing good passwords, not granting unnecessary\n",
      "privileges to users, ensuring application security by preventing SQL injections and data corruption, and\n",
      "others. See Chapter 2, General Security Issues.\n",
      "• Security of the installation itself. The data files, log files, and the all the application files of your\n",
      "installation should be protected to ensure that they are not readable or writable by unauthorized parties.\n",
      "For more information, see Chapter 3, Postinstallation Setup and Testing.\n",
      "\n",
      "---\n",
      "\n",
      "For more information, see Chapter 3, Postinstallation Setup and Testing.\n",
      "• Access control and security within the database system itself, including the users and databases\n",
      "granted with access to the databases, views and stored programs in use within the database. For more\n",
      "information, see Chapter 4, Access Control and Account Management.\n",
      "• The features offered by security-related plugins. See Chapter 6, Security Components and Plugins.\n",
      "• Network security of MySQL and your system. The security is related to the grants for individual users,\n",
      "but you may also wish to restrict MySQL so that it is available only locally on the MySQL server host, or\n",
      "to a limited set of other hosts.\n",
      "• Ensure that you have adequate and appropriate backups of your database files, configuration and log\n",
      "Question: \n",
      "\n",
      "Imagine you are Securify Officer who will propose security practises for items as below:\n",
      "- What is security guideline for MySQL database server?\n",
      "- How to keep password secured?\n",
      "You are requested to create a document to share with your team member.\n",
      "Could you please provide the steps in bullet points.\n",
      "\n",
      "Sample as below:\n",
      "\n",
      "Step 1: ...\n",
      "\n",
      "Step 2: ...\n",
      "\n",
      "Step 3: ...\n",
      "\n",
      "\n"
     ]
    }
   ],
   "source": [
    "\n",
    "query_text = \"\"\"\n",
    "Imagine you are Database Engineer who has been given several tasks as below:\n",
    "- Create a new table to store information of the company staffs in MySQL database server. It will contain the \"First Name\", \"Last Name\", \"Age\", \"Contact Number\", and \"Email\".\n",
    "- Insert a few records in table that just created.\n",
    "- Select all record in table that just inserted.\n",
    "You are requested to create a document to share with your team member.\n",
    "Please provide some examples of the SQL query.\\n\n",
    "Could you please provide the steps in bullet points.\\n\n",
    "Sample as below:\\n\n",
    "Step 1: ...\\n\n",
    "Step 2: ...\\n\n",
    "Step 3: ...\\n\n",
    "\"\"\"\n",
    "# query_text = \"\"\"\n",
    "# Imagine you are Securify Officer who will propose security practises for items as below:\n",
    "# - What is security guideline for MySQL database server?\n",
    "# - How to keep password secured?\n",
    "# You are requested to create a document to share with your team member.\n",
    "# Could you please provide the steps in bullet points.\\n\n",
    "# Sample as below:\\n\n",
    "# Step 1: ...\\n\n",
    "# Step 2: ...\\n\n",
    "# Step 3: ...\\n\n",
    "# \"\"\"\n",
    "PROMPT_TEMPLATE = \"\"\"\n",
    "1. If not sure, say \"I don't know\".\n",
    "2. Answer the question based only on the following context:\n",
    "\n",
    "Context: {context}\n",
    "\n",
    "---\n",
    "\n",
    "Answer the question based on the above context: {question}\n",
    "\"\"\"\n",
    "results = db.similarity_search_with_score(query_text, k=5)\n",
    "context_text = \"\\n\\n---\\n\\n\".join([doc.page_content for doc, _score in results])\n",
    "prompt_template = ChatPromptTemplate.from_template(PROMPT_TEMPLATE)\n",
    "print(f\"Context: \\n{context_text}\")\n",
    "print(f\"Question: \\n{query_text}\")\n",
    "prompt = prompt_template.format(context=context_text, question=query_text)"
   ]
  },
  {
   "cell_type": "markdown",
   "metadata": {},
   "source": [
    "Split the reasoning if deepseek LLM called"
   ]
  },
  {
   "cell_type": "code",
   "execution_count": 30,
   "metadata": {},
   "outputs": [],
   "source": [
    "def extract_think_content(response_text):\n",
    "    \"\"\"\n",
    "    Parses and separates content wrapped in XML-style \"think\" tags\n",
    "    from the final response.\n",
    "    \"\"\"\n",
    "    start_tag = \"<think>\"\n",
    "    end_tag = \"</think>\"\n",
    "\n",
    "    start_index = response_text.find(start_tag) + len(start_tag)\n",
    "    end_index = response_text.find(end_tag)\n",
    "\n",
    "    if start_index != -1 and end_index != -1:\n",
    "        reasoning_content = response_text[start_index:end_index].strip()\n",
    "        final_response = response_text[end_index + len(end_tag):].strip()\n",
    "        return reasoning_content, final_response\n",
    "    else:\n",
    "        return None, response_text"
   ]
  },
  {
   "cell_type": "markdown",
   "metadata": {},
   "source": [
    "Preparing Model for prompt"
   ]
  },
  {
   "cell_type": "code",
   "execution_count": 31,
   "metadata": {},
   "outputs": [
    {
     "data": {
      "text/markdown": [
       "Query:\n",
       "\n",
       "\n",
       "Imagine you are Securify Officer who will propose security practises for items as below:\n",
       "- What is security guideline for MySQL database server?\n",
       "- How to keep password secured?\n",
       "You are requested to create a document to share with your team member.\n",
       "Could you please provide the steps in bullet points.\n",
       "\n",
       "Sample as below:\n",
       "\n",
       "Step 1: ...\n",
       "\n",
       "Step 2: ...\n",
       "\n",
       "Step 3: ...\n",
       "\n",
       "\n",
       "\n",
       "Response:\n",
       "\n",
       "I'd be happy to help you with that. Here is a sample document proposing security practices for MySQL database server:\n",
       "\n",
       "**Security Guidelines for MySQL Database Server**\n",
       "\n",
       "As a Securify Officer, it's essential to follow these guidelines to ensure the security of our MySQL database server.\n",
       "\n",
       "**Step 1: Review and Understand Security Guidelines**\n",
       "\n",
       "* Review the MySQL installation instructions, paying particular attention to setting a root password (Section 3.4, \"Securing the Initial MySQL Account\").\n",
       "* Familiarize yourself with the End-User Guidelines for Password Security (Section 2.2.1) and security guidelines in Chapter 1, Chapter 2, Chapter 3, Chapter 4, Chapter 6, and other relevant sections.\n",
       "\n",
       "**Step 2: Secure Passwords**\n",
       "\n",
       "* Use a properly protected option file to store MySQL credentials.\n",
       "* Consider using the mysql_config_editor utility to store authentication credentials in an encrypted login path file named .mylogin.cnf.\n",
       "* Never hardcode passwords in scripts or configuration files. Instead, use environment variables or command-line arguments to pass passwords securely.\n",
       "\n",
       "**Step 3: Manage Privileges and Access Control**\n",
       "\n",
       "* Use the SHOW GRANTS statement to check which accounts have access to what privileges.\n",
       "* Regularly review and revoke unnecessary privileges using the REVOKE statement (Section 2.2.1).\n",
       "* Ensure that users only have the necessary permissions to perform their tasks.\n",
       "\n",
       "**Step 4: Protect Against SQL Injections and Data Corruption**\n",
       "\n",
       "* Regularly update MySQL and its plugins to ensure you have the latest security patches.\n",
       "* Use prepared statements and parameterized queries to prevent SQL injections.\n",
       "* Implement data validation and sanitization to prevent data corruption.\n",
       "\n",
       "**Step 5: Network Security and Access Control**\n",
       "\n",
       "* Configure MySQL to only listen on localhost or a limited set of other hosts (Section Chapter 6, Security Components and Plugins).\n",
       "* Use firewalls to restrict access to the MySQL server.\n",
       "* Regularly monitor network traffic for suspicious activity.\n",
       "\n",
       "**Step 6: Regular Backups and Maintenance**\n",
       "\n",
       "* Regularly back up database files, configuration, and log files to prevent data loss in case of an attack or other disaster.\n",
       "* Perform regular maintenance tasks, such as updating MySQL plugins and running security audits.\n",
       "\n",
       "By following these guidelines, we can ensure the security of our MySQL database server and protect against various threats.\n",
       "\n",
       "Sources: ['./data/pdf/mysql-security-excerpt-8.0-en.pdf:12:1', './data/pdf/mysql-security-excerpt-8.0-en.pdf:11:0', './data/pdf/mysql-security-excerpt-8.0-en.pdf:494:1', './data/pdf/mysql-security-excerpt-8.0-en.pdf:8:0', './data/pdf/mysql-security-excerpt-8.0-en.pdf:8:1']"
      ],
      "text/plain": [
       "<IPython.core.display.Markdown object>"
      ]
     },
     "metadata": {},
     "output_type": "display_data"
    }
   ],
   "source": [
    "# MODEL_NAME = \"deepseek-r1:1.5b\"\n",
    "# MODEL_NAME = \"deepseek-r1:8b\"\n",
    "MODEL_NAME = \"llama3.2:3b\"\n",
    "# MODEL_NAME = \"tinyllama\"\n",
    "# MODEL_NAME = \"tinydolphin\"\n",
    "# MODEL_NAME = \"phi3\"\n",
    "\n",
    "model = OllamaLLM(model=MODEL_NAME)\n",
    "response_text = model.invoke(prompt)\n",
    "\n",
    "sources = [doc.metadata.get(\"id\", None) for doc, _score in results]\n",
    "if MODEL_NAME == \"deepseek-r1:8b\" or MODEL_NAME == \"deepseek-r1:1.5b\":\n",
    "    reasoning_content, final_response = extract_think_content(response_text)\n",
    "    formatted_response = f\"Query:\\n\\n{query_text}\\n\\nResponse:\\n\\n{final_response}\\n\\nReasoning:\\n\\n{reasoning_content}\\n\\nSources: {sources}\"\n",
    "else:\n",
    "    formatted_response = f\"Query:\\n\\n{query_text}\\n\\nResponse:\\n\\n{response_text}\\n\\nSources: {sources}\"\n",
    "# print(formatted_response)\n",
    "display(Markdown(formatted_response))"
   ]
  }
 ],
 "metadata": {
  "kernelspec": {
   "display_name": ".venv",
   "language": "python",
   "name": "python3"
  },
  "language_info": {
   "codemirror_mode": {
    "name": "ipython",
    "version": 3
   },
   "file_extension": ".py",
   "mimetype": "text/x-python",
   "name": "python",
   "nbconvert_exporter": "python",
   "pygments_lexer": "ipython3",
   "version": "3.10.12"
  }
 },
 "nbformat": 4,
 "nbformat_minor": 2
}
