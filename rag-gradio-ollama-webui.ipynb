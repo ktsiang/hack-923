{
 "cells": [
  {
   "cell_type": "markdown",
   "metadata": {},
   "source": [
    "# **Demo RAG with Ollama LLM**\n",
    "---\n",
    "## **Installation**\n",
    "Install required libraries"
   ]
  },
  {
   "cell_type": "code",
   "execution_count": null,
   "metadata": {},
   "outputs": [],
   "source": [
    "%pip install --quiet -U langchain ## LLM libary\n",
    "# %pip install --quiet -U chromadb ## Vector Storage\n",
    "%pip install --quiet -U langchain-chroma ## LLM Vector Storage\n",
    "%pip install --quiet -U pypdf ## Loading PDFs\n",
    "%pip install --quiet -U pytest ## Unit testing\n",
    "%pip install --quiet -U langchain-community ## LLM Community Library\n",
    "%pip install --quiet -U langchain-ollama ## LLM Ollama Library"
   ]
  },
  {
   "cell_type": "markdown",
   "metadata": {},
   "source": [
    "Import required libraries"
   ]
  },
  {
   "cell_type": "code",
   "execution_count": null,
   "metadata": {},
   "outputs": [],
   "source": [
    "import argparse\n",
    "import os\n",
    "import shutil\n",
    "from langchain_community.document_loaders import PyPDFLoader\n",
    "from langchain_text_splitters import RecursiveCharacterTextSplitter\n",
    "from langchain.schema.document import Document\n",
    "from langchain_ollama import OllamaEmbeddings\n",
    "from langchain.vectorstores.chroma import Chroma\n",
    "# from langchain_chroma import Chroma\n",
    "from langchain.prompts import ChatPromptTemplate\n",
    "from langchain_community.llms.ollama import Ollama\n",
    "import gradio as gr  # Provides an easy-to-use web interface for the chatbot"
   ]
  },
  {
   "cell_type": "markdown",
   "metadata": {},
   "source": [
    "## **Defining Gradio Web GUI Interface**"
   ]
  },
  {
   "cell_type": "code",
   "execution_count": null,
   "metadata": {},
   "outputs": [],
   "source": [
    "# Define a Gradio interface\n",
    "interface = gr.Interface(\n",
    "    fn=ask_question,  # The function that processes user input and generates a response (logic of the app)\n",
    "    inputs=[\n",
    "        gr.File(label=\"Upload PDF (optional)\"),  # Optional file upload input for a PDF document\n",
    "        gr.Textbox(label=\"Ask a question\")  # Text input where the user types their question\n",
    "    ],\n",
    "    outputs=\"text\",  # The function returns a text response\n",
    "    title=\"Ask questions about your PDF\",  # The title displayed on the interface\n",
    "    description=\"Use DeepSeek-R1 1.5B to answer your questions about the uploaded PDF document.\",  # Brief description of the interface's functionality\n",
    ")\n",
    "\n",
    "# Launch the Gradio interface to start the web-based app\n",
    "# interface.launch(share=True)\n",
    "interface.launch()"
   ]
  }
 ],
 "metadata": {
  "kernelspec": {
   "display_name": ".venv",
   "language": "python",
   "name": "python3"
  },
  "language_info": {
   "name": "python",
   "version": "3.12.3"
  }
 },
 "nbformat": 4,
 "nbformat_minor": 2
}
