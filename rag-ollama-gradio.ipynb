{
 "cells": [
  {
   "cell_type": "code",
   "execution_count": null,
   "metadata": {},
   "outputs": [],
   "source": [
    "%pip install --quiet -U ollama\n",
    "%pip install --quiet -U langchain chromadb gradio \n",
    "%pip install --quiet -U langchain-community\n",
    "%pip install --quiet -U pymupdf"
   ]
  },
  {
   "cell_type": "code",
   "execution_count": null,
   "metadata": {},
   "outputs": [],
   "source": [
    "# Import necessary packages\n",
    "import ollama  # Enables interaction with local large language models (LLMs)\n",
    "import gradio as gr  # Provides an easy-to-use web interface for the chatbot\n",
    "\n",
    "# Document processing and retrieval  \n",
    "from langchain_community.document_loaders import PyMuPDFLoader  # Extracts text from PDF files for processing\n",
    "from langchain.text_splitter import RecursiveCharacterTextSplitter  # Splits text into smaller chunks for better embedding and retrieval\n",
    "from langchain.vectorstores import Chroma  # Handles storage and retrieval of vector embeddings using ChromaDB\n",
    "\n",
    "# Embedding generation  \n",
    "from langchain_community.embeddings import OllamaEmbeddings  # Converts text into numerical vectors using Ollama's embedding model\n",
    "\n",
    "import re  # Provides tools for working with regular expressions, useful for text cleaning and pattern matching"
   ]
  },
  {
   "cell_type": "code",
   "execution_count": null,
   "metadata": {},
   "outputs": [],
   "source": [
    "# Call the Ollama model to generate a response  \n",
    "response = ollama.chat(\n",
    "    model=\"deepseek-r1:1.5b\",  # Specifies the DeepSeek R1 model (1.5B parameters)\n",
    "    messages=[\n",
    "        {\"role\": \"user\", \"content\": \"Explain Newton's second law of motion\"},  # User's input query\n",
    "    ],\n",
    ")\n",
    "\n",
    "# Print the chatbot's response\n",
    "print(response[\"message\"][\"content\"])  # Extracts and displays the generated response from the model"
   ]
  },
  {
   "cell_type": "code",
   "execution_count": null,
   "metadata": {},
   "outputs": [],
   "source": [
    "# Define the function that processes the PDF\n",
    "def process_pdf(pdf_bytes):\n",
    "    # If PDF files are empty, return None — This prevents errors from trying to process an empty input.\n",
    "    if pdf_bytes is None:\n",
    "        return None, None, None\n",
    "    # PyMuPDFLoader initializes the PDF file\n",
    "    loader = PyMuPDFLoader(pdf_bytes) \n",
    "    # .load() method reads the content of the PDF and extracts its text\n",
    "    data = loader.load()\n",
    "    # RecursiveCharacterTextSplitter splits the PDF into chunks of 500 characters, keeping 100 characters overlap to keep context \n",
    "    text_splitter = RecursiveCharacterTextSplitter(chunk_size=500, chunk_overlap=100)\n",
    "    # Splits the documents into chunks and stores them in chunks object\n",
    "    chunks = text_splitter.split_documents(data)\n",
    "    # Create embeddings using OllamaEmbeddings \n",
    "    embeddings = OllamaEmbeddings(model=\"deepseek-r1:1.5b\")\n",
    "    # Create a vector database which allows us to store the chunks and their embeddings\n",
    "    vectorstore=Chroma.from_documents(documents=chunks, embedding=embeddings, persist_directory=\"./chroma_db\")  # Example directory\n",
    "    # This creates a retriever that enables searching through the vectorstore.\n",
    "    retriever = vectorstore.as_retriever()\n",
    "    \"\"\"\n",
    "    The function returns 3 objects\n",
    "        text_splitter → (Used to split new text in the same way as before)\n",
    "        vectorstore → (Holds the processed document chunks)\n",
    "        retriever → (Used to fetch relevant document chunks when answering questions)\n",
    "    \"\"\"\n",
    "    \n",
    "    return text_splitter, vectorstore, retriever"
   ]
  },
  {
   "cell_type": "code",
   "execution_count": null,
   "metadata": {},
   "outputs": [],
   "source": [
    "def combine_docs(docs):\n",
    "    return \"\\n\\n\".join(doc.page_content for doc in docs)"
   ]
  },
  {
   "cell_type": "code",
   "execution_count": null,
   "metadata": {},
   "outputs": [],
   "source": [
    "def ollama_llm(question, context):\n",
    "\n",
    "    # Format the prompt with the question and context to provide structured input for the AI\n",
    "    formatted_prompt = f\"Question: {question}\\n\\nContext: {context}\"\n",
    "    # Send the structured prompt to the Ollama model for processing\n",
    "    response = ollama.chat(\n",
    "        model=\"deepseek-r1:1.5b\",  # Specifies the AI model to use\n",
    "        messages=[{'role': 'user', 'content': formatted_prompt}]  # Formats the user input\n",
    "    )\n",
    "    # Extract the AI-generated response content\n",
    "    response_content = response['message']['content']\n",
    "    # Remove content inside <think>...</think> tags to clean up AI reasoning traces\n",
    "    final_answer = re.sub(r'<think>.*?</think>', # We're searching for think tags\n",
    "                          '', # We'll replace them with empty spaces\n",
    "                          response_content, # In response_content\n",
    "                          flags=re.DOTALL).strip() # (dot) should match newlines (\\n) as well.\n",
    "    # Return the final cleaned response\n",
    "    return final_answer"
   ]
  },
  {
   "cell_type": "code",
   "execution_count": null,
   "metadata": {},
   "outputs": [],
   "source": [
    "# Define rag_chain function for Retrieval Augmented Generation\n",
    "def rag_chain(question, text_splitter, vectorstore, retriever):\n",
    "    \"\"\"\n",
    "    This function takes as input:\n",
    "        - The question we want to ask the model\n",
    "        - The text_splitter object to split the PDF and read into chunks\n",
    "        - The vectorstore for retrieving embeddings \n",
    "        - The retriever objects which retrieves data from the vectorstore\n",
    "    \"\"\"\n",
    "    retrieved_docs = retriever.invoke(question) # In this step, we will find the part of the document most relevant to the question\n",
    "    formatted_content = combine_docs(retrieved_docs) # We will then combine the retrieved parts of the document \n",
    "    return ollama_llm(question, formatted_content) # Run the model on the question, and the relevant context from the document "
   ]
  },
  {
   "cell_type": "code",
   "execution_count": null,
   "metadata": {},
   "outputs": [],
   "source": [
    "# Put it all together — Create a function that performs the logic expected by the Chatbot  \n",
    "def ask_question(pdf_bytes, question): \n",
    "    text_splitter, vectorstore, retriever = process_pdf(pdf_bytes) # Process the PDF\n",
    "    if text_splitter is None:\n",
    "        return None  # No PDF uploaded    \n",
    "    result = rag_chain(question, text_splitter, vectorstore, retriever) # Return the results with RAG\n",
    "    return {result}"
   ]
  },
  {
   "cell_type": "code",
   "execution_count": null,
   "metadata": {},
   "outputs": [],
   "source": [
    "# Define a Gradio interface\n",
    "interface = gr.Interface(\n",
    "    fn=ask_question,  # The function that processes user input and generates a response (logic of the app)\n",
    "    inputs=[\n",
    "        gr.File(label=\"Upload PDF (optional)\"),  # Optional file upload input for a PDF document\n",
    "        gr.Textbox(label=\"Ask a question\")  # Text input where the user types their question\n",
    "    ],\n",
    "    outputs=\"text\",  # The function returns a text response\n",
    "    title=\"Ask questions about your PDF\",  # The title displayed on the interface\n",
    "    description=\"Use DeepSeek-R1 1.5B to answer your questions about the uploaded PDF document.\",  # Brief description of the interface's functionality\n",
    ")\n",
    "\n",
    "# Launch the Gradio interface to start the web-based app\n",
    "# interface.launch(share=True)\n",
    "interface.launch()"
   ]
  },
  {
   "cell_type": "markdown",
   "metadata": {},
   "source": [
    "* Running on local URL:  http://127.0.0.1:7865\n",
    "\n",
    "To create a public link, set `share=True` in `launch()`."
   ]
  }
 ],
 "metadata": {
  "kernelspec": {
   "display_name": ".venv",
   "language": "python",
   "name": "python3"
  },
  "language_info": {
   "codemirror_mode": {
    "name": "ipython",
    "version": 3
   },
   "file_extension": ".py",
   "mimetype": "text/x-python",
   "name": "python",
   "nbconvert_exporter": "python",
   "pygments_lexer": "ipython3",
   "version": "3.12.3"
  }
 },
 "nbformat": 4,
 "nbformat_minor": 2
}
