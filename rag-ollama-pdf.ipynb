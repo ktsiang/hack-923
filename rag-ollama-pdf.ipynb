{
 "cells": [
  {
   "cell_type": "markdown",
   "metadata": {},
   "source": [
    "# **How to build RAG application - PDF method**\n",
    "---\n",
    "Demo how to create RAG from PDF file "
   ]
  },
  {
   "cell_type": "markdown",
   "metadata": {},
   "source": [
    "## **Library Installation**\n",
    "Install those required libary"
   ]
  },
  {
   "cell_type": "code",
   "execution_count": 5,
   "metadata": {},
   "outputs": [
    {
     "name": "stdout",
     "output_type": "stream",
     "text": [
      "Note: you may need to restart the kernel to use updated packages.\n",
      "Note: you may need to restart the kernel to use updated packages.\n",
      "Note: you may need to restart the kernel to use updated packages.\n",
      "Note: you may need to restart the kernel to use updated packages.\n",
      "Note: you may need to restart the kernel to use updated packages.\n",
      "Note: you may need to restart the kernel to use updated packages.\n"
     ]
    }
   ],
   "source": [
    "%pip install --quiet -U langchain ## LLM libary\n",
    "%pip install --quiet -U chromadb ## Vector Storage\n",
    "# %pip install --quiet -U langchain-chroma ## LLM Vector Storage\n",
    "%pip install --quiet -U pypdf ## Loading PDFs\n",
    "%pip install --quiet -U pytest ## Unit testing\n",
    "%pip install --quiet -U langchain-community ## LLM Community Library\n",
    "%pip install --quiet -U langchain-ollama ## LLM Ollama Library"
   ]
  },
  {
   "cell_type": "markdown",
   "metadata": {},
   "source": [
    "Import some libraries"
   ]
  },
  {
   "cell_type": "code",
   "execution_count": 6,
   "metadata": {},
   "outputs": [],
   "source": [
    "import argparse\n",
    "import os\n",
    "import shutil\n",
    "from IPython.display import display, Markdown\n",
    "from langchain_community.document_loaders import PyPDFLoader\n",
    "from langchain_text_splitters import RecursiveCharacterTextSplitter\n",
    "from langchain.schema.document import Document\n",
    "from langchain_ollama import OllamaEmbeddings\n",
    "from langchain.vectorstores.chroma import Chroma\n",
    "# from langchain_chroma import Chroma\n",
    "from langchain.prompts import ChatPromptTemplate\n",
    "from langchain_community.llms.ollama import Ollama"
   ]
  },
  {
   "cell_type": "markdown",
   "metadata": {},
   "source": [
    "Define variables"
   ]
  },
  {
   "cell_type": "code",
   "execution_count": 7,
   "metadata": {},
   "outputs": [],
   "source": [
    "# PDF_PATH = \"./data/pdf/Maestro_Policy_Engine_25.40.00_Configuration_Guide.pdf\"\n",
    "# CHROMA_PATH = \"./chroma-database/mpe-db\"\n",
    "# PDF_PATH = \"./data/pdf/Monopoly Manual 2007.pdf\"\n",
    "# CHROMA_PATH = \"./chroma-database/monopoly-db\"\n",
    "PDF_PATH = \"./data/pdf/mysql-tutorial-excerpt-8.0-en.a4.pdf\"\n",
    "CHROMA_PATH = \"./chroma-database/mysql-db\""
   ]
  },
  {
   "cell_type": "markdown",
   "metadata": {},
   "source": [
    "## **Loading PDF Data**\n",
    "Try to load PDF data"
   ]
  },
  {
   "cell_type": "code",
   "execution_count": 8,
   "metadata": {},
   "outputs": [],
   "source": [
    "\n",
    "loader = PyPDFLoader(PDF_PATH)\n",
    "pages = loader.load()\n",
    "# print(pages)"
   ]
  },
  {
   "cell_type": "markdown",
   "metadata": {},
   "source": [
    "Split the documents"
   ]
  },
  {
   "cell_type": "code",
   "execution_count": 9,
   "metadata": {},
   "outputs": [],
   "source": [
    "text_splitter = RecursiveCharacterTextSplitter(\n",
    "    chunk_size=800,\n",
    "    chunk_overlap=80,\n",
    "    length_function=len,\n",
    "    is_separator_regex=False\n",
    ")\n",
    "chunks = text_splitter.split_documents(pages)"
   ]
  },
  {
   "cell_type": "markdown",
   "metadata": {},
   "source": [
    "Preparing embedding"
   ]
  },
  {
   "cell_type": "code",
   "execution_count": 10,
   "metadata": {},
   "outputs": [],
   "source": [
    "embeddings = OllamaEmbeddings(model=\"nomic-embed-text\")"
   ]
  },
  {
   "cell_type": "markdown",
   "metadata": {},
   "source": [
    "**(OPTIONAL) Clear Databse**\n",
    "Clear database if required"
   ]
  },
  {
   "cell_type": "code",
   "execution_count": null,
   "metadata": {},
   "outputs": [],
   "source": [
    "IS_DB_CLEARED = False\n",
    "if IS_DB_CLEARED:\n",
    "     if os.path.exists(CHROMA_PATH):\n",
    "        shutil.rmtree(CHROMA_PATH)"
   ]
  },
  {
   "cell_type": "markdown",
   "metadata": {},
   "source": [
    "## **Preparing Chroma**"
   ]
  },
  {
   "cell_type": "code",
   "execution_count": 11,
   "metadata": {},
   "outputs": [
    {
     "name": "stderr",
     "output_type": "stream",
     "text": [
      "/tmp/ipykernel_1120365/2609319021.py:1: LangChainDeprecationWarning: The class `Chroma` was deprecated in LangChain 0.2.9 and will be removed in 1.0. An updated version of the class exists in the :class:`~langchain-chroma package and should be used instead. To use it run `pip install -U :class:`~langchain-chroma` and import as `from :class:`~langchain_chroma import Chroma``.\n",
      "  db = Chroma(\n"
     ]
    }
   ],
   "source": [
    "db = Chroma(\n",
    "    persist_directory=CHROMA_PATH,\n",
    "    embedding_function=embeddings\n",
    ")"
   ]
  },
  {
   "cell_type": "markdown",
   "metadata": {},
   "source": [
    "Calculate Page IDs"
   ]
  },
  {
   "cell_type": "code",
   "execution_count": 12,
   "metadata": {},
   "outputs": [
    {
     "name": "stdout",
     "output_type": "stream",
     "text": [
      "Processing 158 chunks\n"
     ]
    }
   ],
   "source": [
    "last_page_id = None\n",
    "current_chunck_index = 0\n",
    "\n",
    "# Calculate the page ID\n",
    "print(f\"Processing {len(chunks)} chunks\")\n",
    "for chunk in chunks:\n",
    "    source = chunk.metadata.get(\"source\")\n",
    "    page = chunk.metadata.get(\"page\")\n",
    "    current_page_id = f\"{source}:{page}\"\n",
    "    # print(f\"=== Processing {current_page_id} ===\")\n",
    "\n",
    "    # if the page ID is the same as the last one, increment the index\n",
    "    # print(f\"Last page ID: {last_page_id} | Current page ID: {current_page_id}\")\n",
    "\n",
    "    if current_page_id == last_page_id:\n",
    "        current_chunck_index += 1\n",
    "    else:\n",
    "        current_chunck_index = 0\n",
    "    # print(f\"Chunk index: {current_chunck_index}\")\n",
    "\n",
    "    # Calculate the chunk ID\n",
    "    chunk_id = f\"{current_page_id}:{current_chunck_index}\"\n",
    "    last_page_id = current_page_id\n",
    "    # print(f\"Chunk ID: {chunk_id}\")\n",
    "\n",
    "    # Add it to the page meta-data\n",
    "    chunk.metadata[\"id\"] = chunk_id"
   ]
  },
  {
   "cell_type": "markdown",
   "metadata": {},
   "source": [
    "Add or update the documents"
   ]
  },
  {
   "cell_type": "code",
   "execution_count": 13,
   "metadata": {},
   "outputs": [
    {
     "name": "stdout",
     "output_type": "stream",
     "text": [
      "Number of existing documents in DB: 0\n"
     ]
    }
   ],
   "source": [
    "existing_items = db.get(include=[]) # IDs are always included by default\n",
    "existing_ids = set(existing_items[\"ids\"])\n",
    "print(f\"Number of existing documents in DB: {len(existing_ids)}\")"
   ]
  },
  {
   "cell_type": "markdown",
   "metadata": {},
   "source": [
    "Only add document that don't exist in the DB."
   ]
  },
  {
   "cell_type": "code",
   "execution_count": 14,
   "metadata": {},
   "outputs": [
    {
     "name": "stdout",
     "output_type": "stream",
     "text": [
      "Adding new documents to DB: 158\n"
     ]
    },
    {
     "name": "stderr",
     "output_type": "stream",
     "text": [
      "/tmp/ipykernel_1120365/1204274233.py:10: LangChainDeprecationWarning: Since Chroma 0.4.x the manual persistence method is no longer supported as docs are automatically persisted.\n",
      "  db.persist()\n"
     ]
    }
   ],
   "source": [
    "new_chunks = []\n",
    "for chunk in chunks:\n",
    "    if chunk.metadata[\"id\"] not in existing_ids:\n",
    "        new_chunks.append(chunk)\n",
    "\n",
    "if len(new_chunks) > 0:\n",
    "    print(f\"Adding new documents to DB: {len(new_chunks)}\")\n",
    "    chunks = [chunk.metadata[\"id\"] for chunk in new_chunks]\n",
    "    db.add_documents(new_chunks, ids=chunks)\n",
    "    db.persist()\n",
    "else:\n",
    "    print(\"No new documents to add to DB\")"
   ]
  },
  {
   "cell_type": "markdown",
   "metadata": {},
   "source": [
    "## **Query Data**\n",
    "Preparing to search from DB"
   ]
  },
  {
   "cell_type": "code",
   "execution_count": 18,
   "metadata": {},
   "outputs": [
    {
     "name": "stdout",
     "output_type": "stream",
     "text": [
      "Context: \n",
      "Chapter 5 Getting Information About Databases and Tables\n",
      "What if you forget the name of a database or table, or what the structure of a given table is (for\n",
      "example, what its columns are called)? MySQL addresses this problem through several statements\n",
      "that provide information about the databases and tables it supports.\n",
      "You have previously seen SHOW DATABASES, which lists the databases managed by the server. To\n",
      "find out which database is currently selected, use the DATABASE() function:\n",
      "mysql> SELECT DATABASE();\n",
      "+------------+\n",
      "| DATABASE() |\n",
      "+------------+\n",
      "| menagerie  |\n",
      "+------------+\n",
      "If you have not yet selected any database, the result is NULL.\n",
      "To find out what tables the default database contains (for example, when you are not sure about the\n",
      "name of a table), use this statement:\n",
      "\n",
      "---\n",
      "\n",
      "operations:\n",
      "• Create a database\n",
      "• Create a table\n",
      "• Load data into the table\n",
      "• Retrieve data from the table in various ways\n",
      "• Use multiple tables\n",
      "The menagerie database is simple (deliberately), but it is not difficult to think of real-world situations\n",
      "in which a similar type of database might be used. For example, a database like this could be used by\n",
      "a farmer to keep track of livestock, or by a veterinarian to keep track of patient records. A menagerie\n",
      "distribution containing some of the queries and sample data used in the following sections can be\n",
      "obtained from the MySQL website. It is available in both compressed tar file and Zip formats at https://\n",
      "dev.mysql.com/doc/.\n",
      "Use the SHOW statement to find out what databases currently exist on the server:\n",
      "mysql> SHOW DATABASES;\n",
      "+----------+\n",
      "\n",
      "---\n",
      "\n",
      "to which you can connect. If this is not true, contact your MySQL administrator. (If you are the\n",
      "administrator, you need to consult the relevant portions of this manual, such as MySQL Server\n",
      "Administration.)\n",
      "This chapter describes the entire process of setting up and using a database. If you are interested only\n",
      "in accessing an existing database, you may want to skip the sections that describe how to create the\n",
      "database and the tables it contains.\n",
      "Because this chapter is tutorial in nature, many details are necessarily omitted. Consult the relevant\n",
      "sections of the manual for more information on the topics covered here.\n",
      "1\n",
      "\n",
      "---\n",
      "\n",
      "Chapter 1 Tutorial\n",
      "This chapter provides a tutorial introduction to MySQL by showing how to use the mysql client\n",
      "program to create and use a simple database. mysql (sometimes referred to as the “terminal monitor”\n",
      "or just “monitor”) is an interactive program that enables you to connect to a MySQL server, run\n",
      "queries, and view the results. mysql may also be used in batch mode: you place your queries in a file\n",
      "beforehand, then tell mysql to execute the contents of the file. Both ways of using mysql are covered\n",
      "here.\n",
      "To see a list of options provided by mysql, invoke it with the --help option:\n",
      "$> mysql --help\n",
      "This chapter assumes that mysql is installed on your machine and that a MySQL server is available\n",
      "\n",
      "---\n",
      "\n",
      "MySQL Tutorial\n",
      "Question: \n",
      "How to get information about databases and table from MySql server?\n"
     ]
    }
   ],
   "source": [
    "# reuse existing db\n",
    "query_text = \"How to get information about databases and table from MySql server?\"\n",
    "PROMPT_TEMPLATE = \"\"\"\n",
    "1. If not sure, say \"I don't know\".\n",
    "2. Answer the question based only on the following context:\n",
    "\n",
    "Context: {context}\n",
    "\n",
    "---\n",
    "\n",
    "Answer the question based on the above context: {question}\n",
    "\"\"\"\n",
    "results = db.similarity_search_with_score(query_text, k=5)\n",
    "context_text = \"\\n\\n---\\n\\n\".join([doc.page_content for doc, _score in results])\n",
    "prompt_template = ChatPromptTemplate.from_template(PROMPT_TEMPLATE)\n",
    "print(f\"Context: \\n{context_text}\")\n",
    "print(f\"Question: \\n{query_text}\")\n",
    "prompt = prompt_template.format(context=context_text, question=query_text)"
   ]
  },
  {
   "cell_type": "markdown",
   "metadata": {},
   "source": [
    "Preparing Model for prompt"
   ]
  },
  {
   "cell_type": "code",
   "execution_count": 19,
   "metadata": {},
   "outputs": [
    {
     "data": {
      "text/markdown": [
       "Response:\n",
       "\n",
       "<think>\n",
       "Alright, let me try to figure out how to answer this question. The user has provided some context about using MySQL to get information about databases and tables, specifically through the SHOW DATABASES command and the SHOW TABLES statement.\n",
       "\n",
       "First, I need to understand what exactly the user is asking for. They want to know how to retrieve details about the current database or all databases on the server, as well as the columns of a specific table. \n",
       "\n",
       "Looking at the context, I see that MySQL uses functions like DATABASE() and CREATE TABLE with the LIKE format. The SHOW TABLES statement can be used to list all table structures in memory.\n",
       "\n",
       "So, to answer this question, I should outline both commands: using DATABASE() to get the current database name and using SHOW TABLES or CREATE TABLE to get a table's columns. This way, the user knows the exact steps they need.\n",
       "</think>\n",
       "\n",
       "To retrieve information about databases and tables in MySQL:\n",
       "\n",
       "1. **Retrieve the current database name**:\n",
       "   Use the `DBAL:: show DATABASE()` function (or its alias DATABASE()) without any parameters to find out which database is currently selected.\n",
       "\n",
       "2. **Retrieve all table structures**:\n",
       "   Use `mysql> SHOW TABLES;` or `mysql> CREATE TABLE <table_name> LIKE `<schema>;` to view the column definitions of a specific table.\n",
       "\n",
       "3. **List columns using `SHOW TABLES`**:\n",
       "   Execute `mysql> SHOW TABLES;` directly in MySQL to display all tables and their respective columns.\n",
       "\n",
       "These commands allow you to get essential information about your MySQL databases and tables efficiently.\n",
       "\n",
       "Sources: ['./data/pdf/mysql-tutorial-excerpt-8.0-en.a4.pdf:32:0', './data/pdf/mysql-tutorial-excerpt-8.0-en.a4.pdf:14:3', './data/pdf/mysql-tutorial-excerpt-8.0-en.a4.pdf:6:1', './data/pdf/mysql-tutorial-excerpt-8.0-en.a4.pdf:6:0', './data/pdf/mysql-tutorial-excerpt-8.0-en.a4.pdf:0:0']"
      ],
      "text/plain": [
       "<IPython.core.display.Markdown object>"
      ]
     },
     "metadata": {},
     "output_type": "display_data"
    }
   ],
   "source": [
    "# model = Ollama(model=\"tinyllama\")\n",
    "# model = Ollama(model=\"tinydolphin\")\n",
    "# model = Ollama(model=\"deepseek-r1:8b\")\n",
    "model = Ollama(model=\"deepseek-r1:1.5b\")\n",
    "response_text = model.invoke(prompt)\n",
    "\n",
    "sources = [doc.metadata.get(\"id\", None) for doc, _score in results]\n",
    "formatted_response = f\"Response:\\n\\n{response_text}\\n\\nSources: {sources}\"\n",
    "display(Markdown(formatted_response))"
   ]
  }
 ],
 "metadata": {
  "kernelspec": {
   "display_name": ".venv",
   "language": "python",
   "name": "python3"
  },
  "language_info": {
   "codemirror_mode": {
    "name": "ipython",
    "version": 3
   },
   "file_extension": ".py",
   "mimetype": "text/x-python",
   "name": "python",
   "nbconvert_exporter": "python",
   "pygments_lexer": "ipython3",
   "version": "3.12.3"
  }
 },
 "nbformat": 4,
 "nbformat_minor": 2
}
