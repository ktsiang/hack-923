{
 "cells": [
  {
   "cell_type": "markdown",
   "metadata": {},
   "source": [
    "# **How to build RAG application - PDF method**\n",
    "---\n",
    "Demo how to create RAG from PDF file "
   ]
  },
  {
   "cell_type": "markdown",
   "metadata": {},
   "source": [
    "## **Library Installation**\n",
    "Install those required libary"
   ]
  },
  {
   "cell_type": "code",
   "execution_count": 14,
   "metadata": {},
   "outputs": [
    {
     "name": "stdout",
     "output_type": "stream",
     "text": [
      "Note: you may need to restart the kernel to use updated packages.\n",
      "Note: you may need to restart the kernel to use updated packages.\n",
      "Note: you may need to restart the kernel to use updated packages.\n",
      "Note: you may need to restart the kernel to use updated packages.\n",
      "Note: you may need to restart the kernel to use updated packages.\n",
      "Note: you may need to restart the kernel to use updated packages.\n"
     ]
    }
   ],
   "source": [
    "%pip install --quiet -U langchain ## LLM libary\n",
    "%pip install --quiet -U chromadb ## Vector Storage\n",
    "# %pip install --quiet -U langchain-chroma ## LLM Vector Storage\n",
    "%pip install --quiet -U pypdf ## Loading PDFs\n",
    "%pip install --quiet -U pytest ## Unit testing\n",
    "%pip install --quiet -U langchain-community ## LLM Community Library\n",
    "%pip install --quiet -U langchain-ollama ## LLM Ollama Library"
   ]
  },
  {
   "cell_type": "markdown",
   "metadata": {},
   "source": [
    "Import some libraries"
   ]
  },
  {
   "cell_type": "code",
   "execution_count": 17,
   "metadata": {},
   "outputs": [],
   "source": [
    "import argparse\n",
    "import os\n",
    "import shutil\n",
    "from IPython.display import display, Markdown\n",
    "from langchain_community.document_loaders import PyPDFLoader\n",
    "from langchain_text_splitters import RecursiveCharacterTextSplitter\n",
    "from langchain.schema.document import Document\n",
    "from langchain_ollama import OllamaEmbeddings\n",
    "from langchain.vectorstores.chroma import Chroma\n",
    "# from langchain_chroma import Chroma\n",
    "from langchain.prompts import ChatPromptTemplate\n",
    "# from langchain_community.llms.ollama import Ollama\n",
    "from langchain_ollama import OllamaLLM"
   ]
  },
  {
   "cell_type": "markdown",
   "metadata": {},
   "source": [
    "Define variables"
   ]
  },
  {
   "cell_type": "code",
   "execution_count": 18,
   "metadata": {},
   "outputs": [],
   "source": [
    "# PDF_PATH = \"./data/pdf/Maestro_Policy_Engine_25.40.00_Configuration_Guide.pdf\"\n",
    "# CHROMA_PATH = \"./chroma-database/mpe-db\"\n",
    "# PDF_PATH = \"./data/pdf/Monopoly Manual 2007.pdf\"\n",
    "# CHROMA_PATH = \"./chroma-database/monopoly-db\"\n",
    "# PDF_PATH = \"./data/pdf/mysql-tutorial-excerpt-8.0-en.a4.pdf\"\n",
    "# CHROMA_PATH = \"./chroma-database/mysql-db\"\n",
    "PDF_PATH = \"./data/pdf/mysql-security-excerpt-8.0-en.pdf\"\n",
    "CHROMA_PATH = \"./chroma-database/mysql-security-db\""
   ]
  },
  {
   "cell_type": "markdown",
   "metadata": {},
   "source": [
    "## **Loading PDF Data**\n",
    "Try to load PDF data"
   ]
  },
  {
   "cell_type": "code",
   "execution_count": 19,
   "metadata": {},
   "outputs": [],
   "source": [
    "\n",
    "loader = PyPDFLoader(PDF_PATH)\n",
    "pages = loader.load()\n",
    "# print(pages)"
   ]
  },
  {
   "cell_type": "markdown",
   "metadata": {},
   "source": [
    "Split the documents"
   ]
  },
  {
   "cell_type": "code",
   "execution_count": 20,
   "metadata": {},
   "outputs": [],
   "source": [
    "text_splitter = RecursiveCharacterTextSplitter(\n",
    "    chunk_size=800,\n",
    "    chunk_overlap=80,\n",
    "    length_function=len,\n",
    "    is_separator_regex=False\n",
    ")\n",
    "chunks = text_splitter.split_documents(pages)"
   ]
  },
  {
   "cell_type": "markdown",
   "metadata": {},
   "source": [
    "Preparing embedding"
   ]
  },
  {
   "cell_type": "code",
   "execution_count": 22,
   "metadata": {},
   "outputs": [],
   "source": [
    "embeddings = OllamaEmbeddings(model=\"nomic-embed-text\")"
   ]
  },
  {
   "cell_type": "markdown",
   "metadata": {},
   "source": [
    "**(OPTIONAL) Clear Databse**\n",
    "Clear database if required"
   ]
  },
  {
   "cell_type": "code",
   "execution_count": 6,
   "metadata": {},
   "outputs": [],
   "source": [
    "IS_DB_CLEARED = False\n",
    "if IS_DB_CLEARED:\n",
    "     if os.path.exists(CHROMA_PATH):\n",
    "        shutil.rmtree(CHROMA_PATH)"
   ]
  },
  {
   "cell_type": "markdown",
   "metadata": {},
   "source": [
    "## **Preparing Chroma**"
   ]
  },
  {
   "cell_type": "code",
   "execution_count": 23,
   "metadata": {},
   "outputs": [],
   "source": [
    "db = Chroma(\n",
    "    persist_directory=CHROMA_PATH,\n",
    "    embedding_function=embeddings\n",
    ")"
   ]
  },
  {
   "cell_type": "markdown",
   "metadata": {},
   "source": [
    "Calculate Page IDs"
   ]
  },
  {
   "cell_type": "code",
   "execution_count": 25,
   "metadata": {},
   "outputs": [
    {
     "name": "stdout",
     "output_type": "stream",
     "text": [
      "Processing 1958 chunks\n"
     ]
    }
   ],
   "source": [
    "last_page_id = None\n",
    "current_chunck_index = 0\n",
    "\n",
    "# Calculate the page ID\n",
    "print(f\"Processing {len(chunks)} chunks\")\n",
    "for chunk in chunks:\n",
    "    source = chunk.metadata.get(\"source\")\n",
    "    page = chunk.metadata.get(\"page\")\n",
    "    current_page_id = f\"{source}:{page}\"\n",
    "    # print(f\"=== Processing {current_page_id} ===\")\n",
    "\n",
    "    # if the page ID is the same as the last one, increment the index\n",
    "    # print(f\"Last page ID: {last_page_id} | Current page ID: {current_page_id}\")\n",
    "\n",
    "    if current_page_id == last_page_id:\n",
    "        current_chunck_index += 1\n",
    "    else:\n",
    "        current_chunck_index = 0\n",
    "    # print(f\"Chunk index: {current_chunck_index}\")\n",
    "\n",
    "    # Calculate the chunk ID\n",
    "    chunk_id = f\"{current_page_id}:{current_chunck_index}\"\n",
    "    last_page_id = current_page_id\n",
    "    # print(f\"Chunk ID: {chunk_id}\")\n",
    "\n",
    "    # Add it to the page meta-data\n",
    "    chunk.metadata[\"id\"] = chunk_id"
   ]
  },
  {
   "cell_type": "markdown",
   "metadata": {},
   "source": [
    "Add or update the documents"
   ]
  },
  {
   "cell_type": "code",
   "execution_count": 26,
   "metadata": {},
   "outputs": [
    {
     "name": "stdout",
     "output_type": "stream",
     "text": [
      "Number of existing documents in DB: 0\n"
     ]
    }
   ],
   "source": [
    "existing_items = db.get(include=[]) # IDs are always included by default\n",
    "existing_ids = set(existing_items[\"ids\"])\n",
    "print(f\"Number of existing documents in DB: {len(existing_ids)}\")"
   ]
  },
  {
   "cell_type": "markdown",
   "metadata": {},
   "source": [
    "Only add document that don't exist in the DB."
   ]
  },
  {
   "cell_type": "code",
   "execution_count": 27,
   "metadata": {},
   "outputs": [
    {
     "name": "stdout",
     "output_type": "stream",
     "text": [
      "Adding new documents to DB: 1958\n"
     ]
    },
    {
     "name": "stderr",
     "output_type": "stream",
     "text": [
      "/tmp/ipykernel_31419/1204274233.py:10: LangChainDeprecationWarning: Since Chroma 0.4.x the manual persistence method is no longer supported as docs are automatically persisted.\n",
      "  db.persist()\n"
     ]
    }
   ],
   "source": [
    "new_chunks = []\n",
    "for chunk in chunks:\n",
    "    if chunk.metadata[\"id\"] not in existing_ids:\n",
    "        new_chunks.append(chunk)\n",
    "\n",
    "if len(new_chunks) > 0:\n",
    "    print(f\"Adding new documents to DB: {len(new_chunks)}\")\n",
    "    chunks = [chunk.metadata[\"id\"] for chunk in new_chunks]\n",
    "    db.add_documents(new_chunks, ids=chunks)\n",
    "    db.persist()\n",
    "else:\n",
    "    print(\"No new documents to add to DB\")"
   ]
  },
  {
   "cell_type": "markdown",
   "metadata": {},
   "source": [
    "## **Query Data**\n",
    "Preparing to search from DB"
   ]
  },
  {
   "cell_type": "code",
   "execution_count": null,
   "metadata": {},
   "outputs": [
    {
     "name": "stdout",
     "output_type": "stream",
     "text": [
      "Context: \n",
      "Creating a Table\n",
      "Note\n",
      "You can see at any time which database is currently selected using SELECT\n",
      "DATABASE().\n",
      "4.2 Creating a Table\n",
      "Creating the database is the easy part, but at this point it is empty, as SHOW TABLES tells you:\n",
      "mysql> SHOW TABLES;\n",
      "Empty set (0.00 sec)\n",
      "The harder part is deciding what the structure of your database should be: what tables you need and\n",
      "what columns should be in each of them.\n",
      "You want a table that contains a record for each of your pets. This can be called the pet table, and\n",
      "it should contain, as a bare minimum, each animal's name. Because the name by itself is not very\n",
      "interesting, the table should contain other information. For example, if more than one person in your\n",
      "\n",
      "---\n",
      "\n",
      "operations:\n",
      "• Create a database\n",
      "• Create a table\n",
      "• Load data into the table\n",
      "• Retrieve data from the table in various ways\n",
      "• Use multiple tables\n",
      "The menagerie database is simple (deliberately), but it is not difficult to think of real-world situations\n",
      "in which a similar type of database might be used. For example, a database like this could be used by\n",
      "a farmer to keep track of livestock, or by a veterinarian to keep track of patient records. A menagerie\n",
      "distribution containing some of the queries and sample data used in the following sections can be\n",
      "obtained from the MySQL website. It is available in both compressed tar file and Zip formats at https://\n",
      "dev.mysql.com/doc/.\n",
      "Use the SHOW statement to find out what databases currently exist on the server:\n",
      "mysql> SHOW DATABASES;\n",
      "+----------+\n",
      "\n",
      "---\n",
      "\n",
      "to which you can connect. If this is not true, contact your MySQL administrator. (If you are the\n",
      "administrator, you need to consult the relevant portions of this manual, such as MySQL Server\n",
      "Administration.)\n",
      "This chapter describes the entire process of setting up and using a database. If you are interested only\n",
      "in accessing an existing database, you may want to skip the sections that describe how to create the\n",
      "database and the tables it contains.\n",
      "Because this chapter is tutorial in nature, many details are necessarily omitted. Consult the relevant\n",
      "sections of the manual for more information on the topics covered here.\n",
      "1\n",
      "\n",
      "---\n",
      "\n",
      "4.4.8 Counting Rows...........................................................................................................22\n",
      "4.4.9 Using More Than one Table....................................................................................... 24\n",
      "Once you know how to enter SQL statements, you are ready to access a database.\n",
      "Suppose that you have several pets in your home (your menagerie) and you would like to keep track\n",
      "of various types of information about them. You can do so by creating tables to hold your data and\n",
      "loading them with the desired information. Then you can answer different sorts of questions about\n",
      "your animals by retrieving data from the tables. This section shows you how to perform the following\n",
      "operations:\n",
      "• Create a database\n",
      "• Create a table\n",
      "\n",
      "---\n",
      "\n",
      "Creating and Selecting a Database\n",
      "If the test database exists, try to access it:\n",
      "mysql> USE test\n",
      "Database changed\n",
      "USE, like QUIT, does not require a semicolon. (You can terminate such statements with a semicolon\n",
      "if you like; it does no harm.) The USE statement is special in another way, too: it must be given on a\n",
      "single line.\n",
      "You can use the test database (if you have access to it) for the examples that follow, but anything you\n",
      "create in that database can be removed by anyone else with access to it. For this reason, you should\n",
      "probably ask your MySQL administrator for permission to use a database of your own. Suppose that\n",
      "you want to call yours menagerie. The administrator needs to execute a statement like this:\n",
      "mysql> GRANT ALL ON menagerie.* TO 'your_mysql_name'@'your_client_host';\n",
      "Question: \n",
      "\n",
      "Imagine you are Database Engineer who has been given several tasks as below:\n",
      "- Create a new table to store information of the company staffs in MySQL database server. It will contain the \"First Name\", \"Last Name\", \"Age\", \"Contact Number\", and \"Email\".\n",
      "- Insert a few records in table that just created.\n",
      "- Select all record in table that just inserted.\n",
      "You are requested to create a document to share with your team member.\n",
      "Please provide some examples of the SQL query.\n",
      "\n",
      "Could you please provide the steps in bullet points.\n",
      "\n",
      "Sample as below:\n",
      "\n",
      "Step 1: ...\n",
      "\n",
      "Step 2: ...\n",
      "\n",
      "Step 3: ...\n",
      "\n",
      "\n"
     ]
    }
   ],
   "source": [
    "# reuse existing db\n",
    "# query_text = \"\"\"\n",
    "# Imagine you are Database Engineer who has been given several tasks as below:\n",
    "# - Create a new table to store information of the company staffs in MySQL database server. It will contain the \"First Name\", \"Last Name\", \"Age\", \"Contact Number\", and \"Email\".\n",
    "# - Insert a few records in table that just created.\n",
    "# - Select all record in table that just inserted.\n",
    "# You are requested to create a document to share with your team member.\n",
    "# Please provide some examples of the SQL query.\\n\n",
    "# Could you please provide the steps in bullet points.\\n\n",
    "# Sample as below:\\n\n",
    "# Step 1: ...\\n\n",
    "# Step 2: ...\\n\n",
    "# Step 3: ...\\n\n",
    "# \"\"\"\n",
    "query_text = \"\"\"\n",
    "Imagine you are Securify Officer who will propose security practises for items as below:\n",
    "- What is security guideline for MySQL database server?\n",
    "- How to keep password secured?\n",
    "You are requested to create a document to share with your team member.\n",
    "Could you please provide the steps in bullet points.\\n\n",
    "Sample as below:\\n\n",
    "Step 1: ...\\n\n",
    "Step 2: ...\\n\n",
    "Step 3: ...\\n\n",
    "\"\"\"\n",
    "PROMPT_TEMPLATE = \"\"\"\n",
    "1. If not sure, say \"I don't know\".\n",
    "2. Answer the question based only on the following context:\n",
    "\n",
    "Context: {context}\n",
    "\n",
    "---\n",
    "\n",
    "Answer the question based on the above context: {question}\n",
    "\"\"\"\n",
    "results = db.similarity_search_with_score(query_text, k=5)\n",
    "context_text = \"\\n\\n---\\n\\n\".join([doc.page_content for doc, _score in results])\n",
    "prompt_template = ChatPromptTemplate.from_template(PROMPT_TEMPLATE)\n",
    "print(f\"Context: \\n{context_text}\")\n",
    "print(f\"Question: \\n{query_text}\")\n",
    "prompt = prompt_template.format(context=context_text, question=query_text)"
   ]
  },
  {
   "cell_type": "markdown",
   "metadata": {},
   "source": [
    "Split the reasoning if deepseek LLM called"
   ]
  },
  {
   "cell_type": "code",
   "execution_count": 12,
   "metadata": {},
   "outputs": [],
   "source": [
    "def extract_think_content(response_text):\n",
    "    \"\"\"\n",
    "    Parses and separates content wrapped in XML-style \"think\" tags\n",
    "    from the final response.\n",
    "    \"\"\"\n",
    "    start_tag = \"<think>\"\n",
    "    end_tag = \"</think>\"\n",
    "\n",
    "    start_index = response_text.find(start_tag) + len(start_tag)\n",
    "    end_index = response_text.find(end_tag)\n",
    "\n",
    "    if start_index != -1 and end_index != -1:\n",
    "        reasoning_content = response_text[start_index:end_index].strip()\n",
    "        final_response = response_text[end_index + len(end_tag):].strip()\n",
    "        return reasoning_content, final_response\n",
    "    else:\n",
    "        return None, response_text"
   ]
  },
  {
   "cell_type": "markdown",
   "metadata": {},
   "source": [
    "Preparing Model for prompt"
   ]
  },
  {
   "cell_type": "code",
   "execution_count": 16,
   "metadata": {},
   "outputs": [
    {
     "data": {
      "text/markdown": [
       "Query:\n",
       "\n",
       "\n",
       "Imagine you are Database Engineer who has been given several tasks as below:\n",
       "- Create a new table to store information of the company staffs in MySQL database server. It will contain the \"First Name\", \"Last Name\", \"Age\", \"Contact Number\", and \"Email\".\n",
       "- Insert a few records in table that just created.\n",
       "- Select all record in table that just inserted.\n",
       "You are requested to create a document to share with your team member.\n",
       "Please provide some examples of the SQL query.\n",
       "\n",
       "Could you please provide the steps in bullet points.\n",
       "\n",
       "Sample as below:\n",
       "\n",
       "Step 1: ...\n",
       "\n",
       "Step 2: ...\n",
       "\n",
       "Step 3: ...\n",
       "\n",
       "\n",
       "\n",
       "Response:\n",
       "\n",
       "I'd be happy to help you with creating a table, inserting records, and selecting all records. Here are the steps in bullet points:\n",
       "\n",
       "**Creating a Table**\n",
       "\n",
       "* To create a new table named \"staff\" with the specified columns, I would use the following SQL query:\n",
       "```sql\n",
       "CREATE TABLE staff (\n",
       "  First_Name VARCHAR(50),\n",
       "  Last_Name VARCHAR(50),\n",
       "  Age INT,\n",
       "  Contact_Number VARCHAR(20),\n",
       "  Email VARCHAR(100)\n",
       ");\n",
       "```\n",
       "**Inserting Records**\n",
       "\n",
       "* To insert a few records into the \"staff\" table, I would use the following SQL queries:\n",
       "```sql\n",
       "INSERT INTO staff (First_Name, Last_Name, Age, Contact_Number, Email) \n",
       "VALUES ('John', 'Doe', 30, '1234567890', 'john.doe@example.com');\n",
       "\n",
       "INSERT INTO staff (First_Name, Last_Name, Age, Contact_Number, Email) \n",
       "VALUES ('Jane', 'Smith', 25, '0987654321', 'jane.smith@example.com');\n",
       "\n",
       "INSERT INTO staff (First_Name, Last_Name, Age, Contact_Number, Email) \n",
       "VALUES ('Bob', 'Johnson', 40, '5551234567', 'bob.johnson@example.com');\n",
       "```\n",
       "**Selecting All Records**\n",
       "\n",
       "* To select all records from the \"staff\" table, I would use the following SQL query:\n",
       "```sql\n",
       "SELECT * FROM staff;\n",
       "```\n",
       "This will return all columns for all rows in the \"staff\" table.\n",
       "\n",
       "Note: The above queries assume that you are creating and executing these queries directly on your MySQL database server. If you are working with a sample dataset or using a different context, please let me know and I'll adjust my response accordingly.\n",
       "\n",
       "Sources: ['./data/pdf/mysql-tutorial-excerpt-8.0-en.a4.pdf:16:0', './data/pdf/mysql-tutorial-excerpt-8.0-en.a4.pdf:14:3', './data/pdf/mysql-tutorial-excerpt-8.0-en.a4.pdf:6:1', './data/pdf/mysql-tutorial-excerpt-8.0-en.a4.pdf:14:2', './data/pdf/mysql-tutorial-excerpt-8.0-en.a4.pdf:15:0']"
      ],
      "text/plain": [
       "<IPython.core.display.Markdown object>"
      ]
     },
     "metadata": {},
     "output_type": "display_data"
    }
   ],
   "source": [
    "# MODEL_NAME = \"deepseek-r1:1.5b\"\n",
    "# MODEL_NAME = \"deepseek-r1:8b\"\n",
    "MODEL_NAME = \"llama3.2:3b\"\n",
    "# MODEL_NAME = \"tinyllama\"\n",
    "# MODEL_NAME = \"tinydolphin\"\n",
    "# MODEL_NAME = \"phi3\"\n",
    "\n",
    "model = OllamaLLM(model=MODEL_NAME)\n",
    "response_text = model.invoke(prompt)\n",
    "\n",
    "sources = [doc.metadata.get(\"id\", None) for doc, _score in results]\n",
    "if MODEL_NAME == \"deepseek-r1:8b\" or MODEL_NAME == \"deepseek-r1:1.5b\":\n",
    "    reasoning_content, final_response = extract_think_content(response_text)\n",
    "    formatted_response = f\"Query:\\n\\n{query_text}\\n\\nResponse:\\n\\n{final_response}\\n\\nReasoning:\\n\\n{reasoning_content}\\n\\nSources: {sources}\"\n",
    "else:\n",
    "    formatted_response = f\"Query:\\n\\n{query_text}\\n\\nResponse:\\n\\n{response_text}\\n\\nSources: {sources}\"\n",
    "# print(formatted_response)\n",
    "display(Markdown(formatted_response))"
   ]
  }
 ],
 "metadata": {
  "kernelspec": {
   "display_name": ".venv",
   "language": "python",
   "name": "python3"
  },
  "language_info": {
   "codemirror_mode": {
    "name": "ipython",
    "version": 3
   },
   "file_extension": ".py",
   "mimetype": "text/x-python",
   "name": "python",
   "nbconvert_exporter": "python",
   "pygments_lexer": "ipython3",
   "version": "3.10.12"
  }
 },
 "nbformat": 4,
 "nbformat_minor": 2
}
